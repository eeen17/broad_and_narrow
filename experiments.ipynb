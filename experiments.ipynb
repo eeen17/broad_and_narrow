{
 "cells": [
  {
   "cell_type": "markdown",
   "id": "8f3a0210",
   "metadata": {},
   "source": [
    "# Training + Eval Runs"
   ]
  },
  {
   "cell_type": "code",
   "execution_count": 1,
   "id": "5d8098c0-0c26-411c-acc2-9b36849a9651",
   "metadata": {},
   "outputs": [],
   "source": [
    "## GENERATE SINGLE-TASK FT DATA\n",
    "\n",
    "import os\n",
    "os.makedirs(\"ft_data\", exist_ok=True)\n",
    "\n",
    "bases = [8, 9, 10]\n",
    "train_n_digits = [2]\n",
    "train_types = [\"ft_lora\"]\n",
    "\n",
    "command_file = \"train_commands.sh\"\n",
    "\n",
    "\n",
    "## datagen code\n",
    "for base in bases:\n",
    "    for n_digits in train_n_digits:    \n",
    "        command = f\"python sample_pipe.py --base {base} --n_digits {2} --n_samples {1000}\"\n",
    "        with open(command_file, \"a\") as f:\n",
    "            f.write(command + \"\\n\")"
   ]
  },
  {
   "cell_type": "code",
   "execution_count": 9,
   "id": "fa67a61c-d056-45cc-ab49-ce5679f7faef",
   "metadata": {},
   "outputs": [],
   "source": [
    "## GENERATE LORA FT COMMANDS\n",
    "\n",
    "## training code\n",
    "for train_type in train_types:\n",
    "    for base in bases:\n",
    "        for n_digits in train_n_digits:\n",
    "            command = f\"python {train_type}.py --base {base} --model_path unsloth/Phi-4 {cot} --data_file ft_data/data_ft_{base}_{n_digits}.txt\"\n",
    "            with open(command_file, \"a\") as f:\n",
    "                f.write(command + \"\\n\")\n"
   ]
  },
  {
   "cell_type": "code",
   "execution_count": 7,
   "id": "3c8b5610-b032-491d-8404-f64d34d89002",
   "metadata": {},
   "outputs": [],
   "source": [
    "## GENERATE OA FT COMMANDS\n",
    "\n",
    "for train_type in train_types:\n",
    "    for base in bases:\n",
    "        for n_digits in train_n_digits:\n",
    "            command = f\"python {train_type}.py --base {base} --model_path gpt-4o-2024-08-06 {cot} --data_file ft_data/data_ft_{base}_{n_digits}.txt\"\n",
    "            with open(command_file, \"a\") as f:\n",
    "                f.write(command + \"\\n\")"
   ]
  },
  {
   "cell_type": "code",
   "execution_count": null,
   "id": "fb467d65-a521-46f2-bba1-7209793cadb2",
   "metadata": {},
   "outputs": [],
   "source": [
    "## RUN TRAINING\n",
    "\n",
    "#bash train_commands.sh "
   ]
  },
  {
   "cell_type": "code",
   "execution_count": 8,
   "id": "aa8f2957-118f-4f98-a497-b94bd0881f56",
   "metadata": {},
   "outputs": [],
   "source": [
    "## COMPUTE EVALS\n",
    "\n",
    "eval_checkpoints = [63]\n",
    "ks = [1, 2, 3, 4, 5, 6, 8, 10, 12, 16]\n",
    "command_file = \"eval_commands.sh\"\n",
    "                \n",
    "## sft evals\n",
    "models = os.listdir(\"outputs\")\n",
    "for checkpoint in eval_checkpoints:\n",
    "    for base in bases:\n",
    "        for n_digits in [2, 3, 4]:\n",
    "            for model in models:\n",
    "                command = f\"python eval_pipe.py --base {base} --model_name outputs/{model}/checkpoint-{checkpoint} --size 300 --n_digits {n_digits}\"\n",
    "                with open(command_file, \"a\") as f:\n",
    "                    f.write(command + \"\\n\")\n",
    "                    f.write(\"rm output.txt\" + \"\\n\")\n",
    "# baseline evals\n",
    "for cot in [True, False]:\n",
    "    for base in bases:\n",
    "        for n_digits in [2, 3, 4]:\n",
    "            command = f\"python eval_pipe.py --base {base} --model_name unsloth/Phi-4 --size 300 --n_digits {n_digits}\"\n",
    "            with open(command_file, \"a\") as f:\n",
    "                f.write(command + \"\\n\")\n",
    "                f.write(\"rm output.txt\" + \"\\n\")\n",
    "\n",
    "# icl evals\n",
    "for k in ks:\n",
    "    for base in bases:\n",
    "        for n_digits in [2]:\n",
    "            command = f\"python eval_pipe.py --base {base} --model_name unsloth/Phi-4 --size 300 --n_digits {n_digits} --n_shots {k}\"\n",
    "            with open(command_file, \"a\") as f:\n",
    "                f.write(command + \"\\n\")\n",
    "                f.write(\"rm output.txt\" + \"\\n\")"
   ]
  },
  {
   "cell_type": "code",
   "execution_count": 12,
   "id": "20aa5bf9-9c26-41ae-bfed-e6483fc47ae4",
   "metadata": {},
   "outputs": [],
   "source": [
    "## GENERATE OA EVAL COMMANDS\n",
    "\n",
    "\n",
    "with open(\"outputs/oai_models\", \"r\") as f:\n",
    "    models = f.read().split(\"\\n\")\n",
    "    models = dict([(model.split(\": \")[0], model.split(\": \")[-1]) for model in models])\n",
    "    code2model = dict([(model.split(\": \")[-1], model.split(\": \")[0]) for model in models])\n",
    "\n",
    "\n",
    "models = {'test_run_8_cot_True_n_digits_2': \"ft:gpt-4o-2024-08-06:kayafamily::BhAG4cP5\",\n",
    " 'test_run_8_cot_False_n_digits_2': \"ft:gpt-4o-2024-08-06:kayafamily::BhAFt3u6\",\n",
    " 'test_run_9_cot_True_n_digits_2': \"ft:gpt-4o-2024-08-06:kayafamily::BhAXZdJQ\",\n",
    " 'test_run_9_cot_False_n_digits_2': \"ft:gpt-4o-2024-08-06:kayafamily::BhO7qm7Y\",\n",
    " 'test_run_10_cot_True_n_digits_2': \"ft:gpt-4o-2024-08-06:kayafamily::BhO5LNSi\",\n",
    " 'test_run_10_cot_False_n_digits_2': \"ft:gpt-4o-2024-08-06:kayafamily::BhOATqLQ\"}\n",
    "\n",
    "code2model = {\"ft:gpt-4o-2024-08-06:kayafamily::BhAG4cP5\":'test_run_8_cot_True_n_digits_2',\n",
    " 'ft:gpt-4o-2024-08-06:kayafamily::BhAFt3u6': 'test_run_8_cot_False_n_digits_2',\n",
    " 'ft:gpt-4o-2024-08-06:kayafamily::BhAXZdJQ': 'test_run_9_cot_True_n_digits_2',\n",
    " 'ft:gpt-4o-2024-08-06:kayafamily::BhO7qm7Y': 'test_run_9_cot_False_n_digits_2',\n",
    " 'ft:gpt-4o-2024-08-06:kayafamily::BhO5LNSi': 'test_run_10_cot_True_n_digits_2',\n",
    " \"ft:gpt-4o-2024-08-06:kayafamily::BhOATqLQ\":'test_run_10_cot_False_n_digits_2'}\n",
    "\n"
   ]
  },
  {
   "cell_type": "code",
   "execution_count": null,
   "id": "2df31c07",
   "metadata": {},
   "outputs": [],
   "source": [
    "for base in bases:\n",
    "    for n_digits in [2, 3, 4]:\n",
    "        for name, model in models.items():\n",
    "            command = f\"python eval_pipe.py --base {base} --model_name {model} --size 300 --n_digits {n_digits}\"\n",
    "            with open(command_file, \"a\") as f:\n",
    "                f.write(command + \"\\n\")\n",
    "                f.write(\"rm output.txt\" + \"\\n\")\n",
    "\n",
    "\n",
    "for cot in [True, False]:\n",
    "    for base in bases:\n",
    "        for n_digits in [2, 3, 4]:\n",
    "            command = f\"python eval_pipe.py --base {base} --model_name gpt-4o-2024-08-06 --size 300 --n_digits {n_digits}\"\n",
    "            with open(command_file, \"a\") as f:\n",
    "                f.write(command + \"\\n\")\n",
    "                f.write(\"rm output.txt\" + \"\\n\")"
   ]
  },
  {
   "cell_type": "code",
   "execution_count": null,
   "id": "f0feece3-eccf-4b29-ab2c-dd5be225f5e0",
   "metadata": {},
   "outputs": [],
   "source": [
    "## RUN EVALS\n",
    "\n",
    "#bash eval_commands.sh \n"
   ]
  },
  {
   "cell_type": "markdown",
   "id": "f3440273",
   "metadata": {},
   "source": [
    "# Analysis"
   ]
  },
  {
   "cell_type": "markdown",
   "id": "aa96fdc0",
   "metadata": {},
   "source": []
  }
 ],
 "metadata": {
  "kernelspec": {
   "display_name": "Python 3",
   "language": "python",
   "name": "python3"
  },
  "language_info": {
   "codemirror_mode": {
    "name": "ipython",
    "version": 3
   },
   "file_extension": ".py",
   "mimetype": "text/x-python",
   "name": "python",
   "nbconvert_exporter": "python",
   "pygments_lexer": "ipython3",
   "version": "3.9.6"
  }
 },
 "nbformat": 4,
 "nbformat_minor": 5
}
